{
 "cells": [
  {
   "cell_type": "code",
   "execution_count": 119,
   "id": "7820e824",
   "metadata": {},
   "outputs": [],
   "source": [
    "import csv\n",
    "import numpy as np\n",
    "import math\n",
    "from numpy import array, exp\n",
    "from scipy.optimize import curve_fit\n",
    "import matplotlib.pyplot as plt"
   ]
  },
  {
   "cell_type": "code",
   "execution_count": 120,
   "id": "1cb0134b",
   "metadata": {},
   "outputs": [],
   "source": [
    "file2 = 'Dataset_Q2.csv'\n",
    "with open( file2 , 'r') as f:\n",
    "    lines = f.read().split('\\n')"
   ]
  },
  {
   "cell_type": "code",
   "execution_count": 121,
   "id": "09c8f218",
   "metadata": {
    "scrolled": true
   },
   "outputs": [
    {
     "data": {
      "text/plain": [
       "[['Night No.', 'Date', 'Magnitude'],\n",
       " ['1', '12-May', '8.86E+00'],\n",
       " ['2', '13-May', '8.85E+00'],\n",
       " ['3', '14-May', '8.89E+00'],\n",
       " ['4', '15-May', '8.87E+00'],\n",
       " ['5', '16-May', '9.02E+00'],\n",
       " ['6', '17-May', '8.92E+00'],\n",
       " ['7', '18-May', '8.89E+00'],\n",
       " ['8', '19-May', '8.95E+00'],\n",
       " ['9', '20-May', '8.82E+00'],\n",
       " ['10', '21-May', '8.72E+00'],\n",
       " ['11', '22-May', '8.87E+00'],\n",
       " ['12', '23-May', '8.74E+00'],\n",
       " ['13', '24-May', '8.55E+00'],\n",
       " ['14', '25-May', '8.61E+00'],\n",
       " ['15', '26-May', '8.48E+00'],\n",
       " ['16', '27-May', '8.32E+00'],\n",
       " ['17', '28-May', '8.35E+00'],\n",
       " ['18', '29-May', '8.14E+00'],\n",
       " ['19', '30-May', '8.20E+00'],\n",
       " ['20', '31-May', '8.09E+00'],\n",
       " ['21', '01-Jun', '7.96E+00'],\n",
       " ['22', '02-Jun', '7.63E+00'],\n",
       " ['23', '03-Jun', '7.58E+00'],\n",
       " ['24', '04-Jun', '7.57E+00'],\n",
       " ['25', '05-Jun', '7.30E+00'],\n",
       " ['26', '06-Jun', '7.00E+00'],\n",
       " ['27', '07-Jun', '7.02E+00'],\n",
       " ['28', '08-Jun', '6.70E+00'],\n",
       " ['29', '09-Jun', '6.66E+00'],\n",
       " ['30', '10-Jun', '6.22E+00'],\n",
       " ['']]"
      ]
     },
     "execution_count": 121,
     "metadata": {},
     "output_type": "execute_result"
    }
   ],
   "source": [
    "data = []\n",
    "for line in lines:\n",
    "    data.append(line.split(',')) # split each element\n",
    "data[:]"
   ]
  },
  {
   "cell_type": "code",
   "execution_count": 123,
   "id": "21469cfe",
   "metadata": {
    "scrolled": true
   },
   "outputs": [
    {
     "name": "stdout",
     "output_type": "stream",
     "text": [
      "2 8.85\n",
      "3 8.89\n",
      "4 8.87\n",
      "5 9.02\n",
      "6 8.92\n",
      "7 8.89\n",
      "8 8.95\n",
      "9 8.82\n",
      "10 8.72\n",
      "11 8.87\n",
      "12 8.74\n",
      "13 8.55\n",
      "14 8.61\n",
      "15 8.48\n",
      "16 8.32\n",
      "17 8.35\n",
      "18 8.14\n",
      "19 8.2\n",
      "20 8.09\n",
      "21 7.96\n",
      "22 7.63\n",
      "23 7.58\n",
      "24 7.57\n",
      "25 7.3\n",
      "26 7.0\n",
      "27 7.02\n",
      "28 6.7\n",
      "29 6.66\n"
     ]
    }
   ],
   "source": [
    "for j in range(2,30):\n",
    "    print(data[j][0], float(data[j][2]))"
   ]
  },
  {
   "cell_type": "code",
   "execution_count": 124,
   "id": "6f8beb4b",
   "metadata": {
    "scrolled": true
   },
   "outputs": [
    {
     "data": {
      "image/png": "[encoded data removed]",
      "text/plain": [
       "<Figure size 432x288 with 1 Axes>"
      ]
     },
     "metadata": {
      "needs_background": "light"
     },
     "output_type": "display_data"
    }
   ],
   "source": [
    "a = []\n",
    "b = []\n",
    "for i in range(2, 30):\n",
    "    a.append(data[i][0])\n",
    "    b.append(float(data[i][2]))\n",
    "plt.plot( a , b )\n",
    "plt.xlabel('night no.') # Labels the x-axis\n",
    "plt.ylabel('magnitude')\n",
    "plt.show()\n",
    "%matplotlib inline"
   ]
  },
  {
   "cell_type": "code",
   "execution_count": 125,
   "id": "b2579926",
   "metadata": {
    "scrolled": true
   },
   "outputs": [
    {
     "name": "stdout",
     "output_type": "stream",
     "text": [
      "9.02 3\n"
     ]
    }
   ],
   "source": [
    "max_mag = max(b)\n",
    "max_night_no = b.index(max_mag)\n",
    "print(max_mag, max_night_no)"
   ]
  },
  {
   "cell_type": "code",
   "execution_count": 126,
   "id": "7eaa215b",
   "metadata": {},
   "outputs": [],
   "source": [
    "\n",
    "def func(x):\n",
    "    add = 0\n",
    "    dev_sq_sum = 0\n",
    "    \n",
    "    for a in range(2,30):\n",
    "        add += float(data[a][2])\n",
    "    m = add/30   #mu\n",
    "    \n",
    "    for a in range(2,30):\n",
    "        dev_sq_sum += (float(data[a][2]) - m)**2\n",
    "    s = math.sqrt(dev_sq_sum/30) #sigma\n",
    "    \n",
    "    k = (1/s) * (math.sqrt(1/(2 * math.pi))) * exp((-1/2) * (((x-m)/s)**2))\n",
    "    return k"
   ]
  },
  {
   "cell_type": "code",
   "execution_count": 127,
   "id": "9e7c6b62",
   "metadata": {
    "scrolled": true
   },
   "outputs": [
    {
     "data": {
      "image/png": "[encoded data removed]",
      "text/plain": [
       "<Figure size 432x288 with 1 Axes>"
      ]
     },
     "metadata": {
      "needs_background": "light"
     },
     "output_type": "display_data"
    }
   ],
   "source": [
    "xdata = a  #array([1,2,3,4,5,6,7,8,9,10,11,12,13,14,15,16,17,18,19,20,21,22,23,24,25,26,27,28,29,30])                   \n",
    "ydata = b\n",
    "#a = np.linspace(0.0, 30.0 ,num = 30)\n",
    "plt.plot( x, func(x))\n",
    "\n",
    "plt.show()"
   ]
  },
  {
   "cell_type": "code",
   "execution_count": 128,
   "id": "13b8b85f",
   "metadata": {
    "scrolled": false
   },
   "outputs": [
    {
     "ename": "NameError",
     "evalue": "name 'scipy' is not defined",
     "output_type": "error",
     "traceback": [
      "\u001b[1;31m---------------------------------------------------------------------------\u001b[0m",
      "\u001b[1;31mNameError\u001b[0m                                 Traceback (most recent call last)",
      "\u001b[1;32m~\\AppData\\Local\\Temp/ipykernel_26488/157254362.py\u001b[0m in \u001b[0;36m<module>\u001b[1;34m\u001b[0m\n\u001b[1;32m----> 1\u001b[1;33m \u001b[0mscipy\u001b[0m\u001b[1;33m.\u001b[0m\u001b[0moptimize\u001b[0m\u001b[1;33m.\u001b[0m\u001b[0mcurve_fit\u001b[0m\u001b[1;33m(\u001b[0m\u001b[0mf\u001b[0m\u001b[1;33m,\u001b[0m \u001b[0mxdata\u001b[0m\u001b[1;33m,\u001b[0m \u001b[0mydata\u001b[0m\u001b[1;33m,\u001b[0m \u001b[0mp0\u001b[0m\u001b[1;33m=\u001b[0m\u001b[1;32mNone\u001b[0m\u001b[1;33m,\u001b[0m \u001b[0msigma\u001b[0m\u001b[1;33m=\u001b[0m\u001b[0ms\u001b[0m\u001b[1;33m,\u001b[0m \u001b[0mabsolute_sigma\u001b[0m\u001b[1;33m=\u001b[0m\u001b[1;32mFalse\u001b[0m\u001b[1;33m,\u001b[0m \u001b[0mcheck_finite\u001b[0m\u001b[1;33m=\u001b[0m\u001b[1;32mTrue\u001b[0m\u001b[1;33m,\u001b[0m \u001b[0mbounds\u001b[0m\u001b[1;33m=\u001b[0m\u001b[1;33m(\u001b[0m\u001b[1;36m0\u001b[0m\u001b[1;33m,\u001b[0m \u001b[1;36m30\u001b[0m\u001b[1;33m)\u001b[0m\u001b[1;33m,\u001b[0m \u001b[0mmethod\u001b[0m\u001b[1;33m=\u001b[0m\u001b[1;32mNone\u001b[0m\u001b[1;33m,\u001b[0m \u001b[0mjac\u001b[0m\u001b[1;33m=\u001b[0m\u001b[1;32mNone\u001b[0m\u001b[1;33m,\u001b[0m \u001b[1;33m**\u001b[0m\u001b[0mkwargs\u001b[0m\u001b[1;33m)\u001b[0m\u001b[1;33m\u001b[0m\u001b[1;33m\u001b[0m\u001b[0m\n\u001b[0m",
      "\u001b[1;31mNameError\u001b[0m: name 'scipy' is not defined"
     ]
    }
   ],
   "source": [
    "scipy.optimize.curve_fit(f, xdata, ydata, p0=None, sigma=s, absolute_sigma=False, check_finite=True, bounds=(0, 30), method=None, jac=None, **kwargs)"
   ]
  },
  {
   "cell_type": "code",
   "execution_count": null,
   "id": "de159558",
   "metadata": {},
   "outputs": [],
   "source": []
  }
 ],
 "metadata": {
  "kernelspec": {
   "display_name": "Python 3 (ipykernel)",
   "language": "python",
   "name": "python3"
  },
  "language_info": {
   "codemirror_mode": {
    "name": "ipython",
    "version": 3
   },
   "file_extension": ".py",
   "mimetype": "text/x-python",
   "name": "python",
   "nbconvert_exporter": "python",
   "pygments_lexer": "ipython3",
   "version": "3.9.7"
  }
 },
 "nbformat": 4,
 "nbformat_minor": 5
}
